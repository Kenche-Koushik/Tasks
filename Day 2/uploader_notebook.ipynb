{
 "cells": [
  {
   "cell_type": "markdown",
   "metadata": {
    "id": "b346d280"
   },
   "source": [
    "## Bank Statement Uploader Notebook\n",
    "\n",
    "This notebook allows you to upload a bank statement (in `.csv` or `.xlsx` format) and saves the transactions into a local SQLite database (`transactions.db`).\n",
    "\n",
    "**Instructions:**\n",
    "1. Run the cells in order.\n",
    "2. When you run the final cell, an \"Upload\" button will appear.\n",
    "3. Click the button, select your bank statement file, and the transactions will be processed and saved automatically."
   ]
  },
  {
   "cell_type": "code",
   "execution_count": 7,
   "metadata": {
    "id": "dba8f2e8"
   },
   "outputs": [],
   "source": [
    "# Step 1: Import necessary libraries\n",
    "import pandas as pd\n",
    "import sqlite3\n",
    "import ipywidgets as widgets\n",
    "from IPython.display import display\n",
    "import io"
   ]
  },
  {
   "cell_type": "markdown",
   "metadata": {
    "id": "00df16fc"
   },
   "source": [
    "### Step 2: Setup Database Connection\n",
    "This cell connects to the `transactions.db` file and creates the `transactions` table if it doesn't already exist."
   ]
  },
  {
   "cell_type": "code",
   "execution_count": 8,
   "metadata": {
    "id": "afe6daec"
   },
   "outputs": [
    {
     "name": "stdout",
     "output_type": "stream",
     "text": [
      "Database 'transactions.db' is ready.\n"
     ]
    }
   ],
   "source": [
    "db_name = 'transactions.db'\n",
    "conn = sqlite3.connect(db_name)\n",
    "cursor = conn.cursor()\n",
    "\n",
    "cursor.execute(\"\"\"\n",
    "                CREATE TABLE IF NOT EXISTS transactions (\n",
    "                    id INTEGER PRIMARY KEY AUTOINCREMENT,\n",
    "                    transaction_date TEXT not null,\n",
    "                    description TEXT,\n",
    "                    debit_amount REAL,\n",
    "                    credit_amount REAL,\n",
    "                    balance REAL\n",
    "                )\n",
    "            \"\"\")\n",
    "conn.commit()\n",
    "conn.close()\n",
    "\n",
    "print(f\"Database '{db_name}' is ready.\")"
   ]
  },
  {
   "cell_type": "markdown",
   "metadata": {
    "id": "4ecb6db3"
   },
   "source": [
    "### Step 3: Define Processing Functions\n",
    "These are the core functions that parse the bank statement and save the data to the database."
   ]
  },
  {
   "cell_type": "code",
   "execution_count": 9,
   "metadata": {
    "id": "dd3fe387"
   },
   "outputs": [],
   "source": [
    "def parse_statement(df):\n",
    "    \"\"\"\n",
    "    Detects the bank format and maps its columns to the standard database schema.\n",
    "    \"\"\"\n",
    "    df.columns = df.columns.str.strip()\n",
    "\n",
    "    bank_a_mapping = {\n",
    "        'Date': 'transaction_date',\n",
    "        'Narration': 'description',\n",
    "        'Debit': 'debit_amount',\n",
    "        'Credit': 'credit_amount',\n",
    "        'Closing Balance': 'balance'\n",
    "    }\n",
    "\n",
    "    bank_b_mapping = {\n",
    "        'Transaction Date': 'transaction_date',\n",
    "        'Transaction Remarks': 'description',\n",
    "        'Withdrawal Amount (INR)': 'debit_amount',\n",
    "        'Deposit Amount (INR)': 'credit_amount',\n",
    "        'Balance (INR)': 'balance'\n",
    "    }\n",
    "\n",
    "    if all(col in df.columns for col in bank_a_mapping.keys()):\n",
    "        df_mapped = df.rename(columns=bank_a_mapping)\n",
    "        target_cols = list(bank_a_mapping.values())\n",
    "    elif all(col in df.columns for col in bank_b_mapping.keys()):\n",
    "        df_mapped = df.rename(columns=bank_b_mapping)\n",
    "        target_cols = list(bank_b_mapping.values())\n",
    "    else:\n",
    "        return None\n",
    "\n",
    "    df_final = df_mapped[target_cols].copy()\n",
    "    df_final['transaction_date'] = pd.to_datetime(df_final['transaction_date'], dayfirst=True, errors='coerce').dt.strftime('%Y-%m-%d')\n",
    "    for col in ['debit_amount', 'credit_amount', 'balance']:\n",
    "        df_final[col] = pd.to_numeric(df_final[col], errors='coerce')\n",
    "\n",
    "    df_final['debit_amount'].fillna(0, inplace=True)\n",
    "    df_final['credit_amount'].fillna(0, inplace=True)\n",
    "    df_final['description'].fillna('', inplace=True)\n",
    "    df_final.dropna(subset=['transaction_date', 'balance'], inplace=True)\n",
    "\n",
    "    return list(df_final.itertuples(index=False, name=None))\n",
    "\n",
    "def save_to_db(transactions):\n",
    "    \"\"\"\n",
    "    Saves a list of transaction records to the SQLite database, skipping duplicates.\n",
    "    A transaction is considered a duplicate if another entry has the same date, description, debit, and credit amount.\n",
    "    Returns a tuple of (new_records_count, duplicate_records_count).\n",
    "    \"\"\"\n",
    "    new_records_count = 0\n",
    "    duplicate_records_count = 0\n",
    "    records_to_insert = []\n",
    "\n",
    "    try:\n",
    "        conn = sqlite3.connect(db_name)\n",
    "        cursor = conn.cursor()\n",
    "\n",
    "        check_query = '''\n",
    "            SELECT 1 FROM transactions\n",
    "            WHERE transaction_date = ? AND description = ? AND debit_amount = ? AND credit_amount = ?\n",
    "            LIMIT 1\n",
    "        '''\n",
    "\n",
    "        for t in transactions:\n",
    "            # Check for duplicates using the first 4 values of the tuple\n",
    "            cursor.execute(check_query, (t[0], t[1], t[2], t[3]))\n",
    "            if cursor.fetchone():\n",
    "                duplicate_records_count += 1\n",
    "            else:\n",
    "                records_to_insert.append(t)\n",
    "\n",
    "        if records_to_insert:\n",
    "            insert_query = '''\n",
    "                INSERT INTO transactions (transaction_date, description, debit_amount, credit_amount, balance)\n",
    "                VALUES (?, ?, ?, ?, ?)\n",
    "            '''\n",
    "            cursor.executemany(insert_query, records_to_insert)\n",
    "            conn.commit()\n",
    "            new_records_count = len(records_to_insert)\n",
    "\n",
    "        conn.close()\n",
    "        return new_records_count, duplicate_records_count\n",
    "    except sqlite3.Error as e:\n",
    "        # In case of a database error, we print it to the log.\n",
    "        print(f\"❌ Database Error: {e}\")\n",
    "        return 0, 0"
   ]
  },
  {
   "cell_type": "markdown",
   "metadata": {
    "id": "49639ea0"
   },
   "source": [
    "### Step 4: Create the File Uploader Widget\n",
    "This is the interactive part. An upload button will be created. When you upload a file, the `on_upload_change` function will trigger, process the file, and save the data."
   ]
  },
  {
   "cell_type": "code",
   "execution_count": 10,
   "metadata": {
    "id": "e9694345"
   },
   "outputs": [
    {
     "data": {
      "application/vnd.jupyter.widget-view+json": {
       "model_id": "c89a07635bd048938957a3a87fcb08ef",
       "version_major": 2,
       "version_minor": 0
      },
      "text/plain": [
       "FileUpload(value=(), accept='.csv,.xlsx', description='Upload Statement')"
      ]
     },
     "metadata": {},
     "output_type": "display_data"
    },
    {
     "data": {
      "application/vnd.jupyter.widget-view+json": {
       "model_id": "d1293004c17f4e52b06fa45eadd99da6",
       "version_major": 2,
       "version_minor": 0
      },
      "text/plain": [
       "Output()"
      ]
     },
     "metadata": {},
     "output_type": "display_data"
    }
   ],
   "source": [
    "# Create a widget to upload a file\n",
    "uploader = widgets.FileUpload(\n",
    "    accept='.csv,.xlsx',\n",
    "    multiple=False,  # Set to True to allow multiple files\n",
    "    description='Upload Statement'\n",
    ")\n",
    "\n",
    "# Create an output widget to display messages\n",
    "output_log = widgets.Output()\n",
    "\n",
    "def on_upload_change(change):\n",
    "    \"\"\"This function runs automatically when a file is uploaded.\"\"\"\n",
    "    # Direct all print statements within this function to the output_log widget\n",
    "    with output_log:\n",
    "        output_log.clear_output(wait=True)\n",
    "        \n",
    "        # Check if the file upload is cleared, if so, do nothing\n",
    "        if not change['new']:\n",
    "            return\n",
    "\n",
    "        uploaded_file = change['new'][0]\n",
    "        file_name = uploaded_file['name']\n",
    "        content = uploaded_file['content']\n",
    "        \n",
    "        print(f\"Processing '{file_name}'...\")\n",
    "        try:\n",
    "            # Read the file content into a pandas DataFrame\n",
    "            if file_name.endswith('.csv'):\n",
    "                df = pd.read_csv(io.BytesIO(content))\n",
    "            else:\n",
    "                df = pd.read_excel(io.BytesIO(content))\n",
    "\n",
    "            # Process the data\n",
    "            transactions = parse_statement(df)\n",
    "            if transactions:\n",
    "                new_count, duplicate_count = save_to_db(transactions)\n",
    "                print(f\"✅ Processing complete for '{file_name}'.\")\n",
    "                print(f\"   - Imported {new_count} new transactions.\")\n",
    "                print(f\"   - Skipped {duplicate_count} duplicate records.\")\n",
    "            else:\n",
    "                print(f\"⚠️ Warning: Could not recognize the format of '{file_name}'.\")\n",
    "        \n",
    "        except Exception as e:\n",
    "            print(f\"❌ Error processing '{file_name}': {e}\")\n",
    "            \n",
    "    # Reset the uploader outside the 'with' block to ensure it always runs\n",
    "    # This allows you to upload the same file again for testing if needed\n",
    "    uploader.value = ()\n",
    "    uploader._counter = 0\n",
    "\n",
    "\n",
    "# Link the function to the uploader's value property\n",
    "uploader.observe(on_upload_change, names='value')\n",
    "\n",
    "# Display the uploader and the output log for messages\n",
    "display(uploader, output_log)"
   ]
  },
  {
   "cell_type": "markdown",
   "metadata": {},
   "source": [
    "### Step 5: Database Cleanup Utility\n",
    "If you uploaded files before the duplicate check was added, your database might have duplicate entries. Run the cell below to clean them up.\n",
    "\n",
    "This script keeps the *first* instance of each unique transaction and deletes all subsequent duplicates. "
   ]
  },
  {
   "cell_type": "code",
   "execution_count": 11,
   "metadata": {},
   "outputs": [
    {
     "name": "stdout",
     "output_type": "stream",
     "text": [
      "✅ Database is already clean. No duplicates found.\n"
     ]
    }
   ],
   "source": [
    "def clean_duplicates():\n",
    "    try:\n",
    "        conn = sqlite3.connect(db_name)\n",
    "        cursor = conn.cursor()\n",
    "\n",
    "        # First, count the total rows before cleaning\n",
    "        cursor.execute('SELECT COUNT(*) FROM transactions')\n",
    "        initial_count = cursor.fetchone()[0]\n",
    "\n",
    "        # This query finds the first-occuring `id` for each unique combination of transaction fields\n",
    "        # and deletes any rows whose `id` is NOT in that list of first-occurences.\n",
    "        delete_query = '''\n",
    "            DELETE FROM transactions\n",
    "            WHERE id NOT IN (\n",
    "                SELECT MIN(id)\n",
    "                FROM transactions\n",
    "                GROUP BY transaction_date, description, debit_amount, credit_amount\n",
    "            )\n",
    "        '''\n",
    "        \n",
    "        cursor.execute(delete_query)\n",
    "        conn.commit()\n",
    "\n",
    "        # Count the rows after cleaning to see how many were removed\n",
    "        cursor.execute('SELECT COUNT(*) FROM transactions')\n",
    "        final_count = cursor.fetchone()[0]\n",
    "        \n",
    "        conn.close()\n",
    "\n",
    "        removed_count = initial_count - final_count\n",
    "        if removed_count > 0:\n",
    "            print(f\"✅ Cleanup complete. Removed {removed_count} duplicate transactions.\")\n",
    "        else:\n",
    "            print(\"✅ Database is already clean. No duplicates found.\")\n",
    "\n",
    "    except sqlite3.Error as e:\n",
    "        print(f\"❌ An error occurred during cleanup: {e}\")\n",
    "\n",
    "# Run the cleanup function\n",
    "clean_duplicates()"
   ]
  },
  {
   "cell_type": "code",
   "execution_count": null,
   "metadata": {},
   "outputs": [],
   "source": []
  }
 ],
 "metadata": {
  "colab": {
   "authorship_tag": "ABX9TyMdD7BzBrdIIH/QewSwr67I",
   "provenance": []
  },
  "kernelspec": {
   "display_name": "Python 3",
   "name": "python3"
  },
  "language_info": {
   "codemirror_mode": {
    "name": "ipython",
    "version": 3
   },
   "file_extension": ".py",
   "mimetype": "text/x-python",
   "name": "python",
   "nbconvert_exporter": "python",
   "pygments_lexer": "ipython3",
   "version": "3.12.0"
  }
 },
 "nbformat": 4,
 "nbformat_minor": 0
}
