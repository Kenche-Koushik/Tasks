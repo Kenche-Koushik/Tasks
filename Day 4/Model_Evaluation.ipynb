{
 "cells": [
  {
   "cell_type": "markdown",
   "id": "5154ab1a",
   "metadata": {},
   "source": [
    "# The Assignment: Evaluating the Cognito-Viral Flu Detector"
   ]
  },
  {
   "cell_type": "markdown",
   "id": "bdf1ad58",
   "metadata": {},
   "source": [
    "### Step 1: Import Libraries"
   ]
  },
  {
   "cell_type": "code",
   "execution_count": 1,
   "id": "d2e0a10a",
   "metadata": {},
   "outputs": [],
   "source": [
    "import pandas as pd\n",
    "from sklearn.metrics import confusion_matrix, accuracy_score, classification_report\n",
    "import matplotlib.pyplot as plt\n",
    "import seaborn as sns"
   ]
  },
  {
   "cell_type": "markdown",
   "id": "6f0c9e7a",
   "metadata": {},
   "source": [
    "### Step 2: Load the Dataset from Excel"
   ]
  },
  {
   "cell_type": "code",
   "execution_count": 2,
   "id": "41530528",
   "metadata": {},
   "outputs": [
    {
     "data": {
      "text/html": [
       "<div>\n",
       "<style scoped>\n",
       "    .dataframe tbody tr th:only-of-type {\n",
       "        vertical-align: middle;\n",
       "    }\n",
       "\n",
       "    .dataframe tbody tr th {\n",
       "        vertical-align: top;\n",
       "    }\n",
       "\n",
       "    .dataframe thead th {\n",
       "        text-align: right;\n",
       "    }\n",
       "</style>\n",
       "<table border=\"1\" class=\"dataframe\">\n",
       "  <thead>\n",
       "    <tr style=\"text-align: right;\">\n",
       "      <th></th>\n",
       "      <th>Article ID</th>\n",
       "      <th>True Category</th>\n",
       "      <th>Predicted Category</th>\n",
       "    </tr>\n",
       "  </thead>\n",
       "  <tbody>\n",
       "    <tr>\n",
       "      <th>0</th>\n",
       "      <td>ART01</td>\n",
       "      <td>Technology</td>\n",
       "      <td>Technology</td>\n",
       "    </tr>\n",
       "    <tr>\n",
       "      <th>1</th>\n",
       "      <td>ART02</td>\n",
       "      <td>Sports</td>\n",
       "      <td>Sports</td>\n",
       "    </tr>\n",
       "    <tr>\n",
       "      <th>2</th>\n",
       "      <td>ART03</td>\n",
       "      <td>Business</td>\n",
       "      <td>Technology</td>\n",
       "    </tr>\n",
       "    <tr>\n",
       "      <th>3</th>\n",
       "      <td>ART04</td>\n",
       "      <td>Technology</td>\n",
       "      <td>Technology</td>\n",
       "    </tr>\n",
       "    <tr>\n",
       "      <th>4</th>\n",
       "      <td>ART05</td>\n",
       "      <td>Sports</td>\n",
       "      <td>Sports</td>\n",
       "    </tr>\n",
       "  </tbody>\n",
       "</table>\n",
       "</div>"
      ],
      "text/plain": [
       "  Article ID True Category Predicted Category\n",
       "0      ART01    Technology         Technology\n",
       "1      ART02        Sports             Sports\n",
       "2      ART03      Business         Technology\n",
       "3      ART04    Technology         Technology\n",
       "4      ART05        Sports             Sports"
      ]
     },
     "execution_count": 2,
     "metadata": {},
     "output_type": "execute_result"
    }
   ],
   "source": [
    "df = pd.read_excel(\"News Article Classification.xlsx\")\n",
    "df.head()"
   ]
  },
  {
   "cell_type": "markdown",
   "id": "0dc227f6",
   "metadata": {},
   "source": [
    "### Step3: Prepare the Data"
   ]
  },
  {
   "cell_type": "code",
   "execution_count": 4,
   "id": "60904591",
   "metadata": {},
   "outputs": [],
   "source": [
    "y_true = df[\"True Category\"]\n",
    "y_pred = df[\"Predicted Category\"]\n",
    "labels = [\"Technology\", \"Sports\", \"Business\"]"
   ]
  },
  {
   "cell_type": "markdown",
   "id": "df70a808",
   "metadata": {},
   "source": [
    "### Step 4: Calculate and Visualize the Confusion Matrix"
   ]
  },
  {
   "cell_type": "code",
   "execution_count": 21,
   "id": "ee6ee456",
   "metadata": {},
   "outputs": [
    {
     "name": "stdout",
     "output_type": "stream",
     "text": [
      "Confusion Matrix calculated.\n"
     ]
    }
   ],
   "source": [
    "cm = confusion_matrix(y_true, y_pred, labels=labels)\n",
    "print(\"Confusion Matrix calculated.\")"
   ]
  },
  {
   "cell_type": "code",
   "execution_count": 23,
   "id": "c54879a8",
   "metadata": {},
   "outputs": [
    {
     "data": {
      "image/png": "[encoded data removed]",
      "text/plain": [
       "<Figure size 800x600 with 2 Axes>"
      ]
     },
     "metadata": {},
     "output_type": "display_data"
    }
   ],
   "source": [
    "plt.figure(figsize=(8, 6))\n",
    "\n",
    "sns.heatmap(cm, annot=True, fmt='d', cmap=\"Blues\", xticklabels=labels, yticklabels=labels)\n",
    "\n",
    "# Add labels and a title\n",
    "plt.xlabel(\"Predicted Category\")\n",
    "plt.ylabel(\"True Category\")\n",
    "plt.title(\"Confusion Matrix\")\n",
    "plt.show()"
   ]
  },
  {
   "cell_type": "markdown",
   "id": "29ac954e",
   "metadata": {},
   "source": [
    "### Step 5: Calculate Key Metrics"
   ]
  },
  {
   "cell_type": "code",
   "execution_count": null,
   "id": "9a599213",
   "metadata": {},
   "outputs": [
    {
     "name": "stdout",
     "output_type": "stream",
     "text": [
      "--- Overall Accuracy ---\n",
      "Accuracy:    70.00%\n"
     ]
    }
   ],
   "source": [
    "accuracy = accuracy_score(y_true, y_pred)\n",
    "print(\"--- Overall Accuracy ---\")\n",
    "print(f\"Accuracy:    {accuracy:.2%}\")"
   ]
  },
  {
   "cell_type": "code",
   "execution_count": 17,
   "id": "16c7fe4a",
   "metadata": {},
   "outputs": [
    {
     "name": "stdout",
     "output_type": "stream",
     "text": [
      "--- Detailed Classification Report ---\n",
      "              precision    recall  f1-score   support\n",
      "\n",
      "  Technology       0.62      0.71      0.67         7\n",
      "      Sports       0.86      0.75      0.80         8\n",
      "    Business       0.60      0.60      0.60         5\n",
      "\n",
      "    accuracy                           0.70        20\n",
      "   macro avg       0.69      0.69      0.69        20\n",
      "weighted avg       0.71      0.70      0.70        20\n",
      "\n"
     ]
    }
   ],
   "source": [
    "# Calculate Per-Class and Macro-Averaged Metrics\n",
    "# The classification_report function is the most efficient way to get all these metrics.\n",
    "report = classification_report(y_true, y_pred, labels=labels)\n",
    "print(\"--- Detailed Classification Report ---\")\n",
    "print(report)"
   ]
  },
  {
   "cell_type": "code",
   "execution_count": null,
   "id": "922a9a53",
   "metadata": {},
   "outputs": [],
   "source": []
  }
 ],
 "metadata": {
  "kernelspec": {
   "display_name": "Python 3",
   "language": "python",
   "name": "python3"
  },
  "language_info": {
   "codemirror_mode": {
    "name": "ipython",
    "version": 3
   },
   "file_extension": ".py",
   "mimetype": "text/x-python",
   "name": "python",
   "nbconvert_exporter": "python",
   "pygments_lexer": "ipython3",
   "version": "3.12.0"
  }
 },
 "nbformat": 4,
 "nbformat_minor": 5
}
